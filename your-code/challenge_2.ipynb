{
  "cells": [
    {
      "cell_type": "markdown",
      "metadata": {
        "id": "kWxIzeEirfsu"
      },
      "source": [
        "# Challenge 2: Sentiment Analysis\n",
        "\n",
        "In this challenge we will learn sentiment analysis and practice performing sentiment analysis on Twitter tweets. \n",
        "\n",
        "## Introduction\n",
        "\n",
        "Sentiment analysis is to *systematically identify, extract, quantify, and study affective states and subjective information* based on texts ([reference](https://en.wikipedia.org/wiki/Sentiment_analysis)). In simple words, it's to understand whether a person is happy or unhappy in producing the piece of text. Why we (or rather, companies) care about sentiment in texts? It's because by understanding the sentiments in texts, we will be able to know if our customers are happy or unhappy about our products and services. If they are unhappy, the subsequent action is to figure out what have caused the unhappiness and make improvements.\n",
        "\n",
        "Basic sentiment analysis only understands the *positive* or *negative* (sometimes *neutral* too) polarities of the sentiment. More advanced sentiment analysis will also consider dimensions such as agreement, subjectivity, confidence, irony, and so on. In this challenge we will conduct the basic positive vs negative sentiment analysis based on real Twitter tweets.\n",
        "\n",
        "NLTK comes with a [sentiment analysis package](https://www.nltk.org/api/nltk.sentiment.html). This package is great for dummies to perform sentiment analysis because it requires only the textual data to make predictions. For example:\n",
        "\n",
        "```python\n",
        ">>> from nltk.sentiment.vader import SentimentIntensityAnalyzer\n",
        ">>> txt = \"Ironhack is a Global Tech School ranked num 2 worldwide.   Our mission is to help people transform their careers and join a thriving community of tech professionals that love what they do.\"\n",
        ">>> analyzer = SentimentIntensityAnalyzer()\n",
        ">>> analyzer.polarity_scores(txt)\n",
        "{'neg': 0.0, 'neu': 0.741, 'pos': 0.259, 'compound': 0.8442}\n",
        "```\n",
        "\n",
        "In this challenge, however, you will not use NLTK's sentiment analysis package because in your Machine Learning training in the past 2 weeks you have learned how to make predictions more accurate than that. The [tweets data](https://www.kaggle.com/kazanova/sentiment140) we will be using today are already coded for the positive/negative sentiment. You will be able to use the Naïve Bayes classifier you learned in the lesson to predict the sentiment of tweets based on the labels."
      ]
    },
    {
      "cell_type": "code",
      "source": [
        "from google.colab import drive\n",
        "drive.mount('/content/drive')"
      ],
      "metadata": {
        "colab": {
          "base_uri": "https://localhost:8080/"
        },
        "id": "uef3TACRt_m7",
        "outputId": "5eb7ae27-41c4-4fa7-9d65-ae605683243a"
      },
      "execution_count": null,
      "outputs": [
        {
          "output_type": "stream",
          "name": "stdout",
          "text": [
            "Drive already mounted at /content/drive; to attempt to forcibly remount, call drive.mount(\"/content/drive\", force_remount=True).\n"
          ]
        }
      ]
    },
    {
      "cell_type": "code",
      "source": [
        ""
      ],
      "metadata": {
        "id": "H0WpNz755t-s"
      },
      "execution_count": null,
      "outputs": []
    },
    {
      "cell_type": "markdown",
      "metadata": {
        "id": "BAmwZgVirfsy"
      },
      "source": [
        "## Conducting Sentiment Analysis\n",
        "\n",
        "### Loading and Exploring Data\n",
        "\n",
        "The dataset we'll be using today is located on Kaggle (https://www.kaggle.com/kazanova/sentiment140). Once you have downloaded and imported the dataset, it you will need to define the columns names: df.columns = ['target','id','date','flag','user','text']\n",
        "\n",
        "*Notes:* \n",
        "\n",
        "* The dataset is huuuuge (1.6m tweets). When you develop your data analysis codes, you can sample a subset of the data (e.g. 20k records) so that you will save a lot of time when you test your codes."
      ]
    },
    {
      "cell_type": "code",
      "source": [
        "import pandas as pd\n",
        "import nltk\n",
        "from nltk.tokenize import word_tokenize\n",
        "from nltk.stem import PorterStemmer \n",
        "from nltk.stem.snowball import SnowballStemmer\n",
        "from nltk.stem import WordNetLemmatizer \n",
        "from nltk.corpus import stopwords\n",
        "from textblob import TextBlob\n",
        "from sklearn.feature_extraction.text import CountVectorizer\n",
        "from sklearn.feature_extraction.text import TfidfVectorizer"
      ],
      "metadata": {
        "id": "YqBDsRYirl6b"
      },
      "execution_count": null,
      "outputs": []
    },
    {
      "cell_type": "code",
      "execution_count": null,
      "metadata": {
        "id": "w-QhUCzvrfsy"
      },
      "outputs": [],
      "source": [
        "name_of_cols = ['target','id','date','flag','user','text']\n",
        "sent = pd.read_csv(\"/content/drive/MyDrive/challenges/training.1600000.processed.noemoticon.csv\", sep = ',', names=name_of_cols , encoding='latin-1')\n",
        "sent.head()\n",
        "sent_sampled = sent.sample(10000)"
      ]
    },
    {
      "cell_type": "markdown",
      "metadata": {
        "id": "-GSZiOTSrfs0"
      },
      "source": [
        "### Prepare Textual Data for Sentiment Analysis\n",
        "\n",
        "Now, apply the functions you have written in Challenge 1 to your whole data set. These functions include:\n",
        "\n",
        "* `clean_up()`\n",
        "\n",
        "* `tokenize()`\n",
        "\n",
        "* `stem_and_lemmatize()`\n",
        "\n",
        "* `remove_stopwords()`\n",
        "\n",
        "Create a new column called `text_processed` in the dataframe to contain the processed data. At the end, your `text_processed` column should contain lists of word tokens that are cleaned up. Your data should look like below:\n",
        "\n",
        "![Processed Data](data-cleaning-results.png)"
      ]
    },
    {
      "cell_type": "code",
      "execution_count": null,
      "metadata": {
        "id": "pRGSvZPMrfs0"
      },
      "outputs": [],
      "source": [
        "import re\n",
        "\n",
        "def clean_up(s):\n",
        "    \"\"\"\n",
        "    Cleans up numbers, URLs, and special characters from a string.\n",
        "\n",
        "    Args:\n",
        "        s: The string to be cleaned up.\n",
        "\n",
        "    Returns:\n",
        "        A string that has been cleaned up.\n",
        "    \"\"\"\n",
        "    s=re.sub('http://.*', ' ', s).lower()\n",
        "    s=re.sub('[^A-Za-z]+', ' ', s)\n",
        "    \n",
        "    return s"
      ]
    },
    {
      "cell_type": "code",
      "source": [
        "def tokenized(s):\n",
        "    \"\"\"\n",
        "    Tokenize a string.\n",
        "\n",
        "    Args:\n",
        "        s: String to be tokenized.\n",
        "\n",
        "    Returns:\n",
        "        A list of words as the result of tokenization.\n",
        "    \"\"\"\n",
        "    return word_tokenize(s)"
      ],
      "metadata": {
        "id": "3wKxSLemsRiq"
      },
      "execution_count": null,
      "outputs": []
    },
    {
      "cell_type": "code",
      "source": [
        "def stem_and_lemmatize(l):\n",
        "    \"\"\"\n",
        "    Perform stemming and lemmatization on a list of words.\n",
        "\n",
        "    Args:\n",
        "        l: A list of strings.\n",
        "\n",
        "    Returns:\n",
        "        A list of strings after being stemmed and lemmatized.\n",
        "    \"\"\"\n",
        "    ps = PorterStemmer ()\n",
        "    stemmed = [ps.stem(w) for w in l]\n",
        "    lemmatizer = WordNetLemmatizer()\n",
        "    lemmatized = [lemmatizer.lemmatize(w) for w in stemmed]\n",
        "    return lemmatized"
      ],
      "metadata": {
        "id": "dS91TwjfsV1X"
      },
      "execution_count": null,
      "outputs": []
    },
    {
      "cell_type": "code",
      "source": [
        "def remove_stopwords(l):\n",
        "    \"\"\"\n",
        "    Remove English stopwords from a list of strings.\n",
        "\n",
        "    Args:\n",
        "        l: A list of strings.\n",
        "\n",
        "    Returns:\n",
        "        A list of strings after stop words are removed.\n",
        "    \"\"\"\n",
        "    \n",
        "    stop_words = stopwords.words('english')\n",
        "    \n",
        "    return [w for w in l if w not in stop_words]"
      ],
      "metadata": {
        "id": "6QmGSfInsakm"
      },
      "execution_count": null,
      "outputs": []
    },
    {
      "cell_type": "code",
      "source": [
        "import nltk\n",
        "nltk.download('punkt')\n",
        "nltk.download('wordnet')\n",
        "nltk.download('stopwords')\n",
        "\n",
        "sent_sampled['text_processed'] = sent_sampled.text.apply(clean_up)\n",
        "sent_sampled['text_processed'] = sent_sampled.text_processed.apply(tokenized)\n",
        "sent_sampled['text_processed'] = sent_sampled.text_processed.apply(stem_and_lemmatize)\n",
        "sent_sampled['text_processed'] = sent_sampled.text_processed.apply(remove_stopwords)\n",
        "sent_sampled"
      ],
      "metadata": {
        "colab": {
          "base_uri": "https://localhost:8080/",
          "height": 528
        },
        "id": "V7WONoGksh2l",
        "outputId": "bdace6bf-d7d7-4c64-ccaf-5aef7492100c"
      },
      "execution_count": null,
      "outputs": [
        {
          "output_type": "stream",
          "name": "stdout",
          "text": [
            "[nltk_data] Downloading package punkt to /root/nltk_data...\n",
            "[nltk_data]   Package punkt is already up-to-date!\n",
            "[nltk_data] Downloading package wordnet to /root/nltk_data...\n",
            "[nltk_data]   Package wordnet is already up-to-date!\n",
            "[nltk_data] Downloading package stopwords to /root/nltk_data...\n",
            "[nltk_data]   Package stopwords is already up-to-date!\n"
          ]
        },
        {
          "output_type": "execute_result",
          "data": {
            "text/plain": [
              "         target          id                          date      flag  \\\n",
              "117225        0  1827600097  Sun May 17 11:03:08 PDT 2009  NO_QUERY   \n",
              "564994        0  2206372186  Wed Jun 17 06:26:28 PDT 2009  NO_QUERY   \n",
              "234894        0  1979679730  Sun May 31 04:04:04 PDT 2009  NO_QUERY   \n",
              "1326145       4  2015221960  Wed Jun 03 04:03:38 PDT 2009  NO_QUERY   \n",
              "739783        0  2265814543  Sun Jun 21 07:21:44 PDT 2009  NO_QUERY   \n",
              "...         ...         ...                           ...       ...   \n",
              "815466        4  1551117163  Sat Apr 18 08:11:41 PDT 2009  NO_QUERY   \n",
              "961881        4  1827173523  Sun May 17 10:08:55 PDT 2009  NO_QUERY   \n",
              "663575        0  2244179509  Fri Jun 19 14:24:26 PDT 2009  NO_QUERY   \n",
              "412056        0  2060258539  Sat Jun 06 18:33:52 PDT 2009  NO_QUERY   \n",
              "1237909       4  1993142002  Mon Jun 01 09:53:59 PDT 2009  NO_QUERY   \n",
              "\n",
              "                    user                                               text  \\\n",
              "117225           ronny45  @ClipsFC Ya.. I'm thinking to now..  But i had...   \n",
              "564994     RADIO_QUEEN09  *sigh. though i'm sad i wasnt on my proper twi...   \n",
              "234894   Fashion_Dreamer  @sohailanjum  london now, but visit southampto...   \n",
              "1326145         butigirl  Setting my alarm for tomorrow....oh wait no sc...   \n",
              "739783     dametokillfor               Some visits are harder than others.    \n",
              "...                  ...                                                ...   \n",
              "815466       luvhusband1  lovin this weather - gettin ready to feel the ...   \n",
              "961881         hectorpal  Going offline, had to work.... BTW, have you t...   \n",
              "663575           elionnn  @ginoobear: I'm supposed to go eat shaved ice ...   \n",
              "412056       KerrieLynn7  9:30 &amp; in bed. Ehh. 3 hour nap tonight too...   \n",
              "1237909    ittyittybitty  Be who you are...say what you feel...those who...   \n",
              "\n",
              "                                            text_processed  \n",
              "117225   [clipsfc, ya, think, realli, high, configur, p...  \n",
              "564994   [sigh, though, sad, wasnt, proper, twitter, fo...  \n",
              "234894   [sohailanjum, london, visit, southampton, ofte...  \n",
              "1326145           [set, alarm, tomorrow, oh, wait, school]  \n",
              "739783                                     [visit, harder]  \n",
              "...                                                    ...  \n",
              "815466   [lovin, thi, weather, gettin, readi, feel, ear...  \n",
              "961881        [go, offlin, work, btw, tweet, internetlujo]  \n",
              "663575   [ginoobear, suppos, go, eat, shave, ice, later...  \n",
              "412056   [amp, bed, ehh, hour, nap, tonight, someth, co...  \n",
              "1237909  [say, feel, mind, matter, matter, mind, dr, se...  \n",
              "\n",
              "[10000 rows x 7 columns]"
            ],
            "text/html": [
              "\n",
              "  <div id=\"df-b3397e82-11e1-46f0-9778-55818b36cd82\">\n",
              "    <div class=\"colab-df-container\">\n",
              "      <div>\n",
              "<style scoped>\n",
              "    .dataframe tbody tr th:only-of-type {\n",
              "        vertical-align: middle;\n",
              "    }\n",
              "\n",
              "    .dataframe tbody tr th {\n",
              "        vertical-align: top;\n",
              "    }\n",
              "\n",
              "    .dataframe thead th {\n",
              "        text-align: right;\n",
              "    }\n",
              "</style>\n",
              "<table border=\"1\" class=\"dataframe\">\n",
              "  <thead>\n",
              "    <tr style=\"text-align: right;\">\n",
              "      <th></th>\n",
              "      <th>target</th>\n",
              "      <th>id</th>\n",
              "      <th>date</th>\n",
              "      <th>flag</th>\n",
              "      <th>user</th>\n",
              "      <th>text</th>\n",
              "      <th>text_processed</th>\n",
              "    </tr>\n",
              "  </thead>\n",
              "  <tbody>\n",
              "    <tr>\n",
              "      <th>117225</th>\n",
              "      <td>0</td>\n",
              "      <td>1827600097</td>\n",
              "      <td>Sun May 17 11:03:08 PDT 2009</td>\n",
              "      <td>NO_QUERY</td>\n",
              "      <td>ronny45</td>\n",
              "      <td>@ClipsFC Ya.. I'm thinking to now..  But i had...</td>\n",
              "      <td>[clipsfc, ya, think, realli, high, configur, p...</td>\n",
              "    </tr>\n",
              "    <tr>\n",
              "      <th>564994</th>\n",
              "      <td>0</td>\n",
              "      <td>2206372186</td>\n",
              "      <td>Wed Jun 17 06:26:28 PDT 2009</td>\n",
              "      <td>NO_QUERY</td>\n",
              "      <td>RADIO_QUEEN09</td>\n",
              "      <td>*sigh. though i'm sad i wasnt on my proper twi...</td>\n",
              "      <td>[sigh, though, sad, wasnt, proper, twitter, fo...</td>\n",
              "    </tr>\n",
              "    <tr>\n",
              "      <th>234894</th>\n",
              "      <td>0</td>\n",
              "      <td>1979679730</td>\n",
              "      <td>Sun May 31 04:04:04 PDT 2009</td>\n",
              "      <td>NO_QUERY</td>\n",
              "      <td>Fashion_Dreamer</td>\n",
              "      <td>@sohailanjum  london now, but visit southampto...</td>\n",
              "      <td>[sohailanjum, london, visit, southampton, ofte...</td>\n",
              "    </tr>\n",
              "    <tr>\n",
              "      <th>1326145</th>\n",
              "      <td>4</td>\n",
              "      <td>2015221960</td>\n",
              "      <td>Wed Jun 03 04:03:38 PDT 2009</td>\n",
              "      <td>NO_QUERY</td>\n",
              "      <td>butigirl</td>\n",
              "      <td>Setting my alarm for tomorrow....oh wait no sc...</td>\n",
              "      <td>[set, alarm, tomorrow, oh, wait, school]</td>\n",
              "    </tr>\n",
              "    <tr>\n",
              "      <th>739783</th>\n",
              "      <td>0</td>\n",
              "      <td>2265814543</td>\n",
              "      <td>Sun Jun 21 07:21:44 PDT 2009</td>\n",
              "      <td>NO_QUERY</td>\n",
              "      <td>dametokillfor</td>\n",
              "      <td>Some visits are harder than others.</td>\n",
              "      <td>[visit, harder]</td>\n",
              "    </tr>\n",
              "    <tr>\n",
              "      <th>...</th>\n",
              "      <td>...</td>\n",
              "      <td>...</td>\n",
              "      <td>...</td>\n",
              "      <td>...</td>\n",
              "      <td>...</td>\n",
              "      <td>...</td>\n",
              "      <td>...</td>\n",
              "    </tr>\n",
              "    <tr>\n",
              "      <th>815466</th>\n",
              "      <td>4</td>\n",
              "      <td>1551117163</td>\n",
              "      <td>Sat Apr 18 08:11:41 PDT 2009</td>\n",
              "      <td>NO_QUERY</td>\n",
              "      <td>luvhusband1</td>\n",
              "      <td>lovin this weather - gettin ready to feel the ...</td>\n",
              "      <td>[lovin, thi, weather, gettin, readi, feel, ear...</td>\n",
              "    </tr>\n",
              "    <tr>\n",
              "      <th>961881</th>\n",
              "      <td>4</td>\n",
              "      <td>1827173523</td>\n",
              "      <td>Sun May 17 10:08:55 PDT 2009</td>\n",
              "      <td>NO_QUERY</td>\n",
              "      <td>hectorpal</td>\n",
              "      <td>Going offline, had to work.... BTW, have you t...</td>\n",
              "      <td>[go, offlin, work, btw, tweet, internetlujo]</td>\n",
              "    </tr>\n",
              "    <tr>\n",
              "      <th>663575</th>\n",
              "      <td>0</td>\n",
              "      <td>2244179509</td>\n",
              "      <td>Fri Jun 19 14:24:26 PDT 2009</td>\n",
              "      <td>NO_QUERY</td>\n",
              "      <td>elionnn</td>\n",
              "      <td>@ginoobear: I'm supposed to go eat shaved ice ...</td>\n",
              "      <td>[ginoobear, suppos, go, eat, shave, ice, later...</td>\n",
              "    </tr>\n",
              "    <tr>\n",
              "      <th>412056</th>\n",
              "      <td>0</td>\n",
              "      <td>2060258539</td>\n",
              "      <td>Sat Jun 06 18:33:52 PDT 2009</td>\n",
              "      <td>NO_QUERY</td>\n",
              "      <td>KerrieLynn7</td>\n",
              "      <td>9:30 &amp;amp; in bed. Ehh. 3 hour nap tonight too...</td>\n",
              "      <td>[amp, bed, ehh, hour, nap, tonight, someth, co...</td>\n",
              "    </tr>\n",
              "    <tr>\n",
              "      <th>1237909</th>\n",
              "      <td>4</td>\n",
              "      <td>1993142002</td>\n",
              "      <td>Mon Jun 01 09:53:59 PDT 2009</td>\n",
              "      <td>NO_QUERY</td>\n",
              "      <td>ittyittybitty</td>\n",
              "      <td>Be who you are...say what you feel...those who...</td>\n",
              "      <td>[say, feel, mind, matter, matter, mind, dr, se...</td>\n",
              "    </tr>\n",
              "  </tbody>\n",
              "</table>\n",
              "<p>10000 rows × 7 columns</p>\n",
              "</div>\n",
              "      <button class=\"colab-df-convert\" onclick=\"convertToInteractive('df-b3397e82-11e1-46f0-9778-55818b36cd82')\"\n",
              "              title=\"Convert this dataframe to an interactive table.\"\n",
              "              style=\"display:none;\">\n",
              "        \n",
              "  <svg xmlns=\"http://www.w3.org/2000/svg\" height=\"24px\"viewBox=\"0 0 24 24\"\n",
              "       width=\"24px\">\n",
              "    <path d=\"M0 0h24v24H0V0z\" fill=\"none\"/>\n",
              "    <path d=\"M18.56 5.44l.94 2.06.94-2.06 2.06-.94-2.06-.94-.94-2.06-.94 2.06-2.06.94zm-11 1L8.5 8.5l.94-2.06 2.06-.94-2.06-.94L8.5 2.5l-.94 2.06-2.06.94zm10 10l.94 2.06.94-2.06 2.06-.94-2.06-.94-.94-2.06-.94 2.06-2.06.94z\"/><path d=\"M17.41 7.96l-1.37-1.37c-.4-.4-.92-.59-1.43-.59-.52 0-1.04.2-1.43.59L10.3 9.45l-7.72 7.72c-.78.78-.78 2.05 0 2.83L4 21.41c.39.39.9.59 1.41.59.51 0 1.02-.2 1.41-.59l7.78-7.78 2.81-2.81c.8-.78.8-2.07 0-2.86zM5.41 20L4 18.59l7.72-7.72 1.47 1.35L5.41 20z\"/>\n",
              "  </svg>\n",
              "      </button>\n",
              "      \n",
              "  <style>\n",
              "    .colab-df-container {\n",
              "      display:flex;\n",
              "      flex-wrap:wrap;\n",
              "      gap: 12px;\n",
              "    }\n",
              "\n",
              "    .colab-df-convert {\n",
              "      background-color: #E8F0FE;\n",
              "      border: none;\n",
              "      border-radius: 50%;\n",
              "      cursor: pointer;\n",
              "      display: none;\n",
              "      fill: #1967D2;\n",
              "      height: 32px;\n",
              "      padding: 0 0 0 0;\n",
              "      width: 32px;\n",
              "    }\n",
              "\n",
              "    .colab-df-convert:hover {\n",
              "      background-color: #E2EBFA;\n",
              "      box-shadow: 0px 1px 2px rgba(60, 64, 67, 0.3), 0px 1px 3px 1px rgba(60, 64, 67, 0.15);\n",
              "      fill: #174EA6;\n",
              "    }\n",
              "\n",
              "    [theme=dark] .colab-df-convert {\n",
              "      background-color: #3B4455;\n",
              "      fill: #D2E3FC;\n",
              "    }\n",
              "\n",
              "    [theme=dark] .colab-df-convert:hover {\n",
              "      background-color: #434B5C;\n",
              "      box-shadow: 0px 1px 3px 1px rgba(0, 0, 0, 0.15);\n",
              "      filter: drop-shadow(0px 1px 2px rgba(0, 0, 0, 0.3));\n",
              "      fill: #FFFFFF;\n",
              "    }\n",
              "  </style>\n",
              "\n",
              "      <script>\n",
              "        const buttonEl =\n",
              "          document.querySelector('#df-b3397e82-11e1-46f0-9778-55818b36cd82 button.colab-df-convert');\n",
              "        buttonEl.style.display =\n",
              "          google.colab.kernel.accessAllowed ? 'block' : 'none';\n",
              "\n",
              "        async function convertToInteractive(key) {\n",
              "          const element = document.querySelector('#df-b3397e82-11e1-46f0-9778-55818b36cd82');\n",
              "          const dataTable =\n",
              "            await google.colab.kernel.invokeFunction('convertToInteractive',\n",
              "                                                     [key], {});\n",
              "          if (!dataTable) return;\n",
              "\n",
              "          const docLinkHtml = 'Like what you see? Visit the ' +\n",
              "            '<a target=\"_blank\" href=https://colab.research.google.com/notebooks/data_table.ipynb>data table notebook</a>'\n",
              "            + ' to learn more about interactive tables.';\n",
              "          element.innerHTML = '';\n",
              "          dataTable['output_type'] = 'display_data';\n",
              "          await google.colab.output.renderOutput(dataTable, element);\n",
              "          const docLink = document.createElement('div');\n",
              "          docLink.innerHTML = docLinkHtml;\n",
              "          element.appendChild(docLink);\n",
              "        }\n",
              "      </script>\n",
              "    </div>\n",
              "  </div>\n",
              "  "
            ]
          },
          "metadata": {},
          "execution_count": 59
        }
      ]
    },
    {
      "cell_type": "markdown",
      "metadata": {
        "id": "Ko7PVYcXrfs0"
      },
      "source": [
        "### Creating Bag of Words\n",
        "\n",
        "The purpose of this step is to create a [bag of words](https://en.wikipedia.org/wiki/Bag-of-words_model) from the processed data. The bag of words contains all the unique words in your whole text body (a.k.a. *corpus*) with the number of occurrence of each word. It will allow you to understand which words are the most important features across the whole corpus.\n",
        "\n",
        "Also, you can imagine you will have a massive set of words. The less important words (i.e. those of very low number of occurrence) do not contribute much to the sentiment. Therefore, you only need to use the most important words to build your feature set in the next step. In our case, we will use the top 5,000 words with the highest frequency to build the features.\n",
        "\n",
        "In the cell below, combine all the words in `text_processed` and calculate the frequency distribution of all words. A convenient library to calculate the term frequency distribution is NLTK's `FreqDist` class ([documentation](https://www.nltk.org/api/nltk.html#module-nltk.probability)). Then select the top 5,000 words from the frequency distribution."
      ]
    },
    {
      "cell_type": "code",
      "execution_count": null,
      "metadata": {
        "id": "yQlUMIzzrfs1"
      },
      "outputs": [],
      "source": [
        "words = [word for line in sent_sampled.text_processed for word in line]\n",
        "fdist = nltk.FreqDist(words)\n",
        "top_words = [tuple[0] for tuple in fdist.most_common(5000)]"
      ]
    },
    {
      "cell_type": "markdown",
      "metadata": {
        "id": "EEUvWeNCrfs1"
      },
      "source": [
        "### Building Features\n",
        "\n",
        "Now let's build the features. Using the top 5,000 words, create a 2-dimensional matrix to record whether each of those words is contained in each document (tweet). Then you also have an output column to indicate whether the sentiment in each tweet is positive. For example, assuming your bag of words has 5 items (`['one', 'two', 'three', 'four', 'five']`) out of 4 documents (`['A', 'B', 'C', 'D']`), your feature set is essentially:\n",
        "\n",
        "| Doc | one | two | three | four | five | is_positive |\n",
        "|---|---|---|---|---|---|---|\n",
        "| A | True | False | False | True | False | True |\n",
        "| B | False | False | False | True | True | False |\n",
        "| C | False | True | False | False | False | True |\n",
        "| D | True | False | False | False | True | False|\n",
        "\n",
        "However, because the `nltk.NaiveBayesClassifier.train` class we will use in the next step does not work with Pandas dataframe, the structure of your feature set should be converted to the Python list looking like below:\n",
        "\n",
        "```python\n",
        "[\n",
        "\t({\n",
        "\t\t'one': True,\n",
        "\t\t'two': False,\n",
        "\t\t'three': False,\n",
        "\t\t'four': True,\n",
        "\t\t'five': False\n",
        "\t}, True),\n",
        "\t({\n",
        "\t\t'one': False,\n",
        "\t\t'two': False,\n",
        "\t\t'three': False,\n",
        "\t\t'four': True,\n",
        "\t\t'five': True\n",
        "\t}, False),\n",
        "\t({\n",
        "\t\t'one': False,\n",
        "\t\t'two': True,\n",
        "\t\t'three': False,\n",
        "\t\t'four': False,\n",
        "\t\t'five': False\n",
        "\t}, True),\n",
        "\t({\n",
        "\t\t'one': True,\n",
        "\t\t'two': False,\n",
        "\t\t'three': False,\n",
        "\t\t'four': False,\n",
        "\t\t'five': True\n",
        "\t}, False)\n",
        "]\n",
        "```\n",
        "\n",
        "To help you in this step, watch the [following video](https://www.youtube.com/watch?v=-vVskDsHcVc) to learn how to build the feature set with Python and NLTK. The source code in this video can be found [here](https://pythonprogramming.net/words-as-features-nltk-tutorial/)."
      ]
    },
    {
      "cell_type": "markdown",
      "metadata": {
        "id": "Knav8IQ2rfs2"
      },
      "source": [
        "[![Building Features](building-features.jpg)](https://www.youtube.com/watch?v=-vVskDsHcVc)"
      ]
    },
    {
      "cell_type": "code",
      "execution_count": null,
      "metadata": {
        "id": "Zk-YDy9brfs2"
      },
      "outputs": [],
      "source": [
        "def find_features(text):\n",
        "    words = text.lower()\n",
        "    features = {}\n",
        "    for w in top_words: features[w] = w in words\n",
        "    return features\n",
        "\n",
        "featuresets = [(find_features(t),bool(s)) for t,s in zip(sent_sampled['text'],sent_sampled['target'])]"
      ]
    },
    {
      "cell_type": "markdown",
      "metadata": {
        "id": "oFrRnM5grfs3"
      },
      "source": [
        "### Building and Traininng Naive Bayes Model\n",
        "\n",
        "In this step you will split your feature set into a training and a test set. Then you will create a Bayes classifier instance using `nltk.NaiveBayesClassifier.train` ([example](https://www.nltk.org/book/ch06.html)) to train with the training dataset.\n",
        "\n",
        "After training the model, call `classifier.show_most_informative_features()` to inspect the most important features. The output will look like:\n",
        "\n",
        "```\n",
        "Most Informative Features\n",
        "\t    snow = True            False : True   =     34.3 : 1.0\n",
        "\t  easter = True            False : True   =     26.2 : 1.0\n",
        "\t headach = True            False : True   =     20.9 : 1.0\n",
        "\t    argh = True            False : True   =     17.6 : 1.0\n",
        "\tunfortun = True            False : True   =     16.9 : 1.0\n",
        "\t    jona = True             True : False  =     16.2 : 1.0\n",
        "\t     ach = True            False : True   =     14.9 : 1.0\n",
        "\t     sad = True            False : True   =     13.0 : 1.0\n",
        "\t  parent = True            False : True   =     12.9 : 1.0\n",
        "\t  spring = True            False : True   =     12.7 : 1.0\n",
        "```\n",
        "\n",
        "The [following video](https://www.youtube.com/watch?v=rISOsUaTrO4) will help you complete this step. The source code in this video can be found [here](https://pythonprogramming.net/naive-bayes-classifier-nltk-tutorial/)."
      ]
    },
    {
      "cell_type": "markdown",
      "metadata": {
        "id": "Bv9ZC2Karfs3"
      },
      "source": [
        "[![Building and Training NB](nb-model-building.jpg)](https://www.youtube.com/watch?v=rISOsUaTrO4)"
      ]
    },
    {
      "cell_type": "code",
      "execution_count": null,
      "metadata": {
        "id": "T4L86iFnrfs3"
      },
      "outputs": [],
      "source": [
        "testing_set = featuresets[:4000]\n",
        "training_set = featuresets[4000:]\n",
        "\n",
        "classifier = nltk.NaiveBayesClassifier.train(training_set)"
      ]
    },
    {
      "cell_type": "markdown",
      "metadata": {
        "id": "rMr7RtX0rfs4"
      },
      "source": [
        "### Testing Naive Bayes Model\n",
        "\n",
        "Now we'll test our classifier with the test dataset. This is done by calling `nltk.classify.accuracy(classifier, test)`.\n",
        "\n",
        "As mentioned in one of the tutorial videos, a Naive Bayes model is considered OK if your accuracy score is over 0.6. If your accuracy score is over 0.7, you've done a great job!"
      ]
    },
    {
      "cell_type": "code",
      "execution_count": null,
      "metadata": {
        "id": "zYhfNSb6rfs4",
        "colab": {
          "base_uri": "https://localhost:8080/"
        },
        "outputId": "25603170-126f-4e25-b1d9-08cf63228346"
      },
      "outputs": [
        {
          "output_type": "stream",
          "name": "stdout",
          "text": [
            "Classifier accuracy percent: 68.85\n"
          ]
        }
      ],
      "source": [
        "print(\"Classifier accuracy percent:\", nltk.classify.accuracy(classifier, testing_set)*100)"
      ]
    },
    {
      "cell_type": "code",
      "source": [
        ""
      ],
      "metadata": {
        "id": "Jq6892T1EVDW"
      },
      "execution_count": null,
      "outputs": []
    }
  ],
  "metadata": {
    "kernelspec": {
      "display_name": "Python 3",
      "language": "python",
      "name": "python3"
    },
    "language_info": {
      "codemirror_mode": {
        "name": "ipython",
        "version": 3
      },
      "file_extension": ".py",
      "mimetype": "text/x-python",
      "name": "python",
      "nbconvert_exporter": "python",
      "pygments_lexer": "ipython3",
      "version": "3.7.3"
    },
    "colab": {
      "name": "challenge-2.ipynb",
      "provenance": [],
      "collapsed_sections": []
    }
  },
  "nbformat": 4,
  "nbformat_minor": 0
}