{
  "cells": [
    {
      "cell_type": "markdown",
      "metadata": {
        "id": "kWxIzeEirfsu"
      },
      "source": [
        "# Challenge 2: Sentiment Analysis\n",
        "\n",
        "In this challenge we will learn sentiment analysis and practice performing sentiment analysis on Twitter tweets. \n",
        "\n",
        "## Introduction\n",
        "\n",
        "Sentiment analysis is to *systematically identify, extract, quantify, and study affective states and subjective information* based on texts ([reference](https://en.wikipedia.org/wiki/Sentiment_analysis)). In simple words, it's to understand whether a person is happy or unhappy in producing the piece of text. Why we (or rather, companies) care about sentiment in texts? It's because by understanding the sentiments in texts, we will be able to know if our customers are happy or unhappy about our products and services. If they are unhappy, the subsequent action is to figure out what have caused the unhappiness and make improvements.\n",
        "\n",
        "Basic sentiment analysis only understands the *positive* or *negative* (sometimes *neutral* too) polarities of the sentiment. More advanced sentiment analysis will also consider dimensions such as agreement, subjectivity, confidence, irony, and so on. In this challenge we will conduct the basic positive vs negative sentiment analysis based on real Twitter tweets.\n",
        "\n",
        "NLTK comes with a [sentiment analysis package](https://www.nltk.org/api/nltk.sentiment.html). This package is great for dummies to perform sentiment analysis because it requires only the textual data to make predictions. For example:\n",
        "\n",
        "```python\n",
        ">>> from nltk.sentiment.vader import SentimentIntensityAnalyzer\n",
        ">>> txt = \"Ironhack is a Global Tech School ranked num 2 worldwide.   Our mission is to help people transform their careers and join a thriving community of tech professionals that love what they do.\"\n",
        ">>> analyzer = SentimentIntensityAnalyzer()\n",
        ">>> analyzer.polarity_scores(txt)\n",
        "{'neg': 0.0, 'neu': 0.741, 'pos': 0.259, 'compound': 0.8442}\n",
        "```\n",
        "\n",
        "In this challenge, however, you will not use NLTK's sentiment analysis package because in your Machine Learning training in the past 2 weeks you have learned how to make predictions more accurate than that. The [tweets data](https://www.kaggle.com/kazanova/sentiment140) we will be using today are already coded for the positive/negative sentiment. You will be able to use the Naïve Bayes classifier you learned in the lesson to predict the sentiment of tweets based on the labels."
      ]
    },
    {
      "cell_type": "code",
      "source": [
        "from google.colab import drive\n",
        "drive.mount('/content/drive')"
      ],
      "metadata": {
        "colab": {
          "base_uri": "https://localhost:8080/"
        },
        "id": "uef3TACRt_m7",
        "outputId": "5eb7ae27-41c4-4fa7-9d65-ae605683243a"
      },
      "execution_count": 1,
      "outputs": [
        {
          "output_type": "stream",
          "name": "stdout",
          "text": [
            "Drive already mounted at /content/drive; to attempt to forcibly remount, call drive.mount(\"/content/drive\", force_remount=True).\n"
          ]
        }
      ]
    },
    {
      "cell_type": "code",
      "source": [
        ""
      ],
      "metadata": {
        "id": "H0WpNz755t-s"
      },
      "execution_count": null,
      "outputs": []
    },
    {
      "cell_type": "markdown",
      "metadata": {
        "id": "BAmwZgVirfsy"
      },
      "source": [
        "## Conducting Sentiment Analysis\n",
        "\n",
        "### Loading and Exploring Data\n",
        "\n",
        "The dataset we'll be using today is located on Kaggle (https://www.kaggle.com/kazanova/sentiment140). Once you have downloaded and imported the dataset, it you will need to define the columns names: df.columns = ['target','id','date','flag','user','text']\n",
        "\n",
        "*Notes:* \n",
        "\n",
        "* The dataset is huuuuge (1.6m tweets). When you develop your data analysis codes, you can sample a subset of the data (e.g. 20k records) so that you will save a lot of time when you test your codes."
      ]
    },
    {
      "cell_type": "code",
      "source": [
        "import pandas as pd\n",
        "import nltk\n",
        "from nltk.tokenize import word_tokenize\n",
        "from nltk.stem import PorterStemmer \n",
        "from nltk.stem.snowball import SnowballStemmer\n",
        "from nltk.stem import WordNetLemmatizer \n",
        "from nltk.corpus import stopwords\n",
        "from textblob import TextBlob\n",
        "from sklearn.feature_extraction.text import CountVectorizer\n",
        "from sklearn.feature_extraction.text import TfidfVectorizer"
      ],
      "metadata": {
        "id": "YqBDsRYirl6b"
      },
      "execution_count": 2,
      "outputs": []
    },
    {
      "cell_type": "code",
      "execution_count": 34,
      "metadata": {
        "id": "w-QhUCzvrfsy"
      },
      "outputs": [],
      "source": [
        "name_of_cols = ['target','id','date','flag','user','text']\n",
        "sent = pd.read_csv(\"/content/drive/MyDrive/challenges/training.1600000.processed.noemoticon.csv\", sep = ',', names=name_of_cols , encoding='latin-1')\n",
        "sent.head()\n",
        "sent_sampled = sent.sample(20000)"
      ]
    },
    {
      "cell_type": "markdown",
      "metadata": {
        "id": "-GSZiOTSrfs0"
      },
      "source": [
        "### Prepare Textual Data for Sentiment Analysis\n",
        "\n",
        "Now, apply the functions you have written in Challenge 1 to your whole data set. These functions include:\n",
        "\n",
        "* `clean_up()`\n",
        "\n",
        "* `tokenize()`\n",
        "\n",
        "* `stem_and_lemmatize()`\n",
        "\n",
        "* `remove_stopwords()`\n",
        "\n",
        "Create a new column called `text_processed` in the dataframe to contain the processed data. At the end, your `text_processed` column should contain lists of word tokens that are cleaned up. Your data should look like below:\n",
        "\n",
        "![Processed Data](data-cleaning-results.png)"
      ]
    },
    {
      "cell_type": "code",
      "execution_count": 38,
      "metadata": {
        "id": "pRGSvZPMrfs0"
      },
      "outputs": [],
      "source": [
        "import re\n",
        "\n",
        "def clean_up(s):\n",
        "    \"\"\"\n",
        "    Cleans up numbers, URLs, and special characters from a string.\n",
        "\n",
        "    Args:\n",
        "        s: The string to be cleaned up.\n",
        "\n",
        "    Returns:\n",
        "        A string that has been cleaned up.\n",
        "    \"\"\"\n",
        "    s=re.sub('http://.*', ' ', s).lower()\n",
        "    s=re.sub('[^A-Za-z]+', ' ', s)\n",
        "    \n",
        "    return s"
      ]
    },
    {
      "cell_type": "code",
      "source": [
        "def tokenized(s):\n",
        "    \"\"\"\n",
        "    Tokenize a string.\n",
        "\n",
        "    Args:\n",
        "        s: String to be tokenized.\n",
        "\n",
        "    Returns:\n",
        "        A list of words as the result of tokenization.\n",
        "    \"\"\"\n",
        "    return word_tokenize(s)"
      ],
      "metadata": {
        "id": "3wKxSLemsRiq"
      },
      "execution_count": 42,
      "outputs": []
    },
    {
      "cell_type": "code",
      "source": [
        "def stem_and_lemmatize(l):\n",
        "    \"\"\"\n",
        "    Perform stemming and lemmatization on a list of words.\n",
        "\n",
        "    Args:\n",
        "        l: A list of strings.\n",
        "\n",
        "    Returns:\n",
        "        A list of strings after being stemmed and lemmatized.\n",
        "    \"\"\"\n",
        "    ps = PorterStemmer ()\n",
        "    stemmed = [ps.stem(w) for w in l]\n",
        "    lemmatizer = WordNetLemmatizer()\n",
        "    lemmatized = [lemmatizer.lemmatize(w) for w in stemmed]\n",
        "    return lemmatized"
      ],
      "metadata": {
        "id": "dS91TwjfsV1X"
      },
      "execution_count": 43,
      "outputs": []
    },
    {
      "cell_type": "code",
      "source": [
        "def remove_stopwords(l):\n",
        "    \"\"\"\n",
        "    Remove English stopwords from a list of strings.\n",
        "\n",
        "    Args:\n",
        "        l: A list of strings.\n",
        "\n",
        "    Returns:\n",
        "        A list of strings after stop words are removed.\n",
        "    \"\"\"\n",
        "    \n",
        "    stop_words = stopwords.words('english')\n",
        "    \n",
        "    return [w for w in l if w not in stop_words]"
      ],
      "metadata": {
        "id": "6QmGSfInsakm"
      },
      "execution_count": 44,
      "outputs": []
    },
    {
      "cell_type": "code",
      "source": [
        "import nltk\n",
        "nltk.download('punkt')\n",
        "nltk.download('wordnet')\n",
        "nltk.download('stopwords')\n",
        "\n",
        "sent_sampled['text_processed'] = sent_sampled.text.apply(clean_up)\n",
        "sent_sampled['text_processed'] = sent_sampled.text_processed.apply(tokenized)\n",
        "sent_sampled['text_processed'] = sent_sampled.text_processed.apply(stem_and_lemmatize)\n",
        "sent_sampled['text_processed'] = sent_sampled.text_processed.apply(remove_stopwords)\n",
        "sent_sampled"
      ],
      "metadata": {
        "colab": {
          "base_uri": "https://localhost:8080/",
          "height": 528
        },
        "id": "V7WONoGksh2l",
        "outputId": "acce89e6-f86d-4179-e967-6a650b657a1b"
      },
      "execution_count": 48,
      "outputs": [
        {
          "output_type": "stream",
          "name": "stdout",
          "text": [
            "[nltk_data] Downloading package punkt to /root/nltk_data...\n",
            "[nltk_data]   Package punkt is already up-to-date!\n",
            "[nltk_data] Downloading package wordnet to /root/nltk_data...\n",
            "[nltk_data]   Package wordnet is already up-to-date!\n",
            "[nltk_data] Downloading package stopwords to /root/nltk_data...\n",
            "[nltk_data]   Unzipping corpora/stopwords.zip.\n"
          ]
        },
        {
          "output_type": "execute_result",
          "data": {
            "text/plain": [
              "         target          id                          date      flag  \\\n",
              "108348        0  1824255269  Sun May 17 00:37:29 PDT 2009  NO_QUERY   \n",
              "1503855       4  2072053211  Sun Jun 07 20:19:14 PDT 2009  NO_QUERY   \n",
              "1126925       4  1975105500  Sat May 30 14:27:33 PDT 2009  NO_QUERY   \n",
              "271537        0  1990036726  Mon Jun 01 03:40:09 PDT 2009  NO_QUERY   \n",
              "1012646       4  1881231037  Fri May 22 04:01:55 PDT 2009  NO_QUERY   \n",
              "...         ...         ...                           ...       ...   \n",
              "996246        4  1835853667  Mon May 18 06:53:14 PDT 2009  NO_QUERY   \n",
              "1517603       4  2175862402  Mon Jun 15 02:12:50 PDT 2009  NO_QUERY   \n",
              "1379501       4  2052139246  Fri Jun 05 23:46:47 PDT 2009  NO_QUERY   \n",
              "317718        0  2002669973  Tue Jun 02 04:51:36 PDT 2009  NO_QUERY   \n",
              "1263314       4  1999016726  Mon Jun 01 19:30:09 PDT 2009  NO_QUERY   \n",
              "\n",
              "                    user                                               text  \\\n",
              "108348    silentinfinite  @FunkeeMonk What!? Wow. I'm still so behind on...   \n",
              "1503855  KassandraKanhai  New video by @3OH3pfr premiering tomorrow for ...   \n",
              "1126925         aaplgeek  FYI, DreamHost.com now has $15 SSLs! U'll need...   \n",
              "271537       MRCogdell11  thinking of ways to kill myself..i have worked...   \n",
              "1012646      broccolidog  is uuwi na...have a good weekend, everyone!!! ...   \n",
              "...                  ...                                                ...   \n",
              "996246      pameladetlor  @LittleLeafsFan real short night - may as well...   \n",
              "1517603            Leluc  @envi_envi heya  m-am lasat de WoW pe timp de ...   \n",
              "1379501        Badgirlen            @EdCullenReaLady Hey  How are u today??   \n",
              "317718      ConsBarcebal  @xxparanoid. Wla pa eh. Try q s iba... Hopeful...   \n",
              "1263314     sammiematson               is actually enjoying a Monday night    \n",
              "\n",
              "                                            text_processed  \n",
              "108348   [funkeemonk, wow, still, behind, thi, whole, r...  \n",
              "1503855  [new, video, oh, pfr, premier, tomorrow, song,...  \n",
              "1126925  [fyi, dreamhost, com, ha, ssl, u, need, uniqu,...  \n",
              "271537   [think, way, kill, work, hard, schedul, class,...  \n",
              "1012646                 [uuwi, na, good, weekend, everyon]  \n",
              "...                                                    ...  \n",
              "996246   [littleleafsfan, real, short, night, may, well...  \n",
              "1517603  [envi, envi, heya, lasat, de, wow, pe, timp, d...  \n",
              "1379501                   [edcullenrealadi, hey, u, today]  \n",
              "317718   [xxparanoid, wla, pa, eh, tri, q, iba, hope, m...  \n",
              "1263314                     [actual, enjoy, monday, night]  \n",
              "\n",
              "[20000 rows x 7 columns]"
            ],
            "text/html": [
              "\n",
              "  <div id=\"df-ec7bf75d-0639-4cdf-a2c2-595040b04346\">\n",
              "    <div class=\"colab-df-container\">\n",
              "      <div>\n",
              "<style scoped>\n",
              "    .dataframe tbody tr th:only-of-type {\n",
              "        vertical-align: middle;\n",
              "    }\n",
              "\n",
              "    .dataframe tbody tr th {\n",
              "        vertical-align: top;\n",
              "    }\n",
              "\n",
              "    .dataframe thead th {\n",
              "        text-align: right;\n",
              "    }\n",
              "</style>\n",
              "<table border=\"1\" class=\"dataframe\">\n",
              "  <thead>\n",
              "    <tr style=\"text-align: right;\">\n",
              "      <th></th>\n",
              "      <th>target</th>\n",
              "      <th>id</th>\n",
              "      <th>date</th>\n",
              "      <th>flag</th>\n",
              "      <th>user</th>\n",
              "      <th>text</th>\n",
              "      <th>text_processed</th>\n",
              "    </tr>\n",
              "  </thead>\n",
              "  <tbody>\n",
              "    <tr>\n",
              "      <th>108348</th>\n",
              "      <td>0</td>\n",
              "      <td>1824255269</td>\n",
              "      <td>Sun May 17 00:37:29 PDT 2009</td>\n",
              "      <td>NO_QUERY</td>\n",
              "      <td>silentinfinite</td>\n",
              "      <td>@FunkeeMonk What!? Wow. I'm still so behind on...</td>\n",
              "      <td>[funkeemonk, wow, still, behind, thi, whole, r...</td>\n",
              "    </tr>\n",
              "    <tr>\n",
              "      <th>1503855</th>\n",
              "      <td>4</td>\n",
              "      <td>2072053211</td>\n",
              "      <td>Sun Jun 07 20:19:14 PDT 2009</td>\n",
              "      <td>NO_QUERY</td>\n",
              "      <td>KassandraKanhai</td>\n",
              "      <td>New video by @3OH3pfr premiering tomorrow for ...</td>\n",
              "      <td>[new, video, oh, pfr, premier, tomorrow, song,...</td>\n",
              "    </tr>\n",
              "    <tr>\n",
              "      <th>1126925</th>\n",
              "      <td>4</td>\n",
              "      <td>1975105500</td>\n",
              "      <td>Sat May 30 14:27:33 PDT 2009</td>\n",
              "      <td>NO_QUERY</td>\n",
              "      <td>aaplgeek</td>\n",
              "      <td>FYI, DreamHost.com now has $15 SSLs! U'll need...</td>\n",
              "      <td>[fyi, dreamhost, com, ha, ssl, u, need, uniqu,...</td>\n",
              "    </tr>\n",
              "    <tr>\n",
              "      <th>271537</th>\n",
              "      <td>0</td>\n",
              "      <td>1990036726</td>\n",
              "      <td>Mon Jun 01 03:40:09 PDT 2009</td>\n",
              "      <td>NO_QUERY</td>\n",
              "      <td>MRCogdell11</td>\n",
              "      <td>thinking of ways to kill myself..i have worked...</td>\n",
              "      <td>[think, way, kill, work, hard, schedul, class,...</td>\n",
              "    </tr>\n",
              "    <tr>\n",
              "      <th>1012646</th>\n",
              "      <td>4</td>\n",
              "      <td>1881231037</td>\n",
              "      <td>Fri May 22 04:01:55 PDT 2009</td>\n",
              "      <td>NO_QUERY</td>\n",
              "      <td>broccolidog</td>\n",
              "      <td>is uuwi na...have a good weekend, everyone!!! ...</td>\n",
              "      <td>[uuwi, na, good, weekend, everyon]</td>\n",
              "    </tr>\n",
              "    <tr>\n",
              "      <th>...</th>\n",
              "      <td>...</td>\n",
              "      <td>...</td>\n",
              "      <td>...</td>\n",
              "      <td>...</td>\n",
              "      <td>...</td>\n",
              "      <td>...</td>\n",
              "      <td>...</td>\n",
              "    </tr>\n",
              "    <tr>\n",
              "      <th>996246</th>\n",
              "      <td>4</td>\n",
              "      <td>1835853667</td>\n",
              "      <td>Mon May 18 06:53:14 PDT 2009</td>\n",
              "      <td>NO_QUERY</td>\n",
              "      <td>pameladetlor</td>\n",
              "      <td>@LittleLeafsFan real short night - may as well...</td>\n",
              "      <td>[littleleafsfan, real, short, night, may, well...</td>\n",
              "    </tr>\n",
              "    <tr>\n",
              "      <th>1517603</th>\n",
              "      <td>4</td>\n",
              "      <td>2175862402</td>\n",
              "      <td>Mon Jun 15 02:12:50 PDT 2009</td>\n",
              "      <td>NO_QUERY</td>\n",
              "      <td>Leluc</td>\n",
              "      <td>@envi_envi heya  m-am lasat de WoW pe timp de ...</td>\n",
              "      <td>[envi, envi, heya, lasat, de, wow, pe, timp, d...</td>\n",
              "    </tr>\n",
              "    <tr>\n",
              "      <th>1379501</th>\n",
              "      <td>4</td>\n",
              "      <td>2052139246</td>\n",
              "      <td>Fri Jun 05 23:46:47 PDT 2009</td>\n",
              "      <td>NO_QUERY</td>\n",
              "      <td>Badgirlen</td>\n",
              "      <td>@EdCullenReaLady Hey  How are u today??</td>\n",
              "      <td>[edcullenrealadi, hey, u, today]</td>\n",
              "    </tr>\n",
              "    <tr>\n",
              "      <th>317718</th>\n",
              "      <td>0</td>\n",
              "      <td>2002669973</td>\n",
              "      <td>Tue Jun 02 04:51:36 PDT 2009</td>\n",
              "      <td>NO_QUERY</td>\n",
              "      <td>ConsBarcebal</td>\n",
              "      <td>@xxparanoid. Wla pa eh. Try q s iba... Hopeful...</td>\n",
              "      <td>[xxparanoid, wla, pa, eh, tri, q, iba, hope, m...</td>\n",
              "    </tr>\n",
              "    <tr>\n",
              "      <th>1263314</th>\n",
              "      <td>4</td>\n",
              "      <td>1999016726</td>\n",
              "      <td>Mon Jun 01 19:30:09 PDT 2009</td>\n",
              "      <td>NO_QUERY</td>\n",
              "      <td>sammiematson</td>\n",
              "      <td>is actually enjoying a Monday night</td>\n",
              "      <td>[actual, enjoy, monday, night]</td>\n",
              "    </tr>\n",
              "  </tbody>\n",
              "</table>\n",
              "<p>20000 rows × 7 columns</p>\n",
              "</div>\n",
              "      <button class=\"colab-df-convert\" onclick=\"convertToInteractive('df-ec7bf75d-0639-4cdf-a2c2-595040b04346')\"\n",
              "              title=\"Convert this dataframe to an interactive table.\"\n",
              "              style=\"display:none;\">\n",
              "        \n",
              "  <svg xmlns=\"http://www.w3.org/2000/svg\" height=\"24px\"viewBox=\"0 0 24 24\"\n",
              "       width=\"24px\">\n",
              "    <path d=\"M0 0h24v24H0V0z\" fill=\"none\"/>\n",
              "    <path d=\"M18.56 5.44l.94 2.06.94-2.06 2.06-.94-2.06-.94-.94-2.06-.94 2.06-2.06.94zm-11 1L8.5 8.5l.94-2.06 2.06-.94-2.06-.94L8.5 2.5l-.94 2.06-2.06.94zm10 10l.94 2.06.94-2.06 2.06-.94-2.06-.94-.94-2.06-.94 2.06-2.06.94z\"/><path d=\"M17.41 7.96l-1.37-1.37c-.4-.4-.92-.59-1.43-.59-.52 0-1.04.2-1.43.59L10.3 9.45l-7.72 7.72c-.78.78-.78 2.05 0 2.83L4 21.41c.39.39.9.59 1.41.59.51 0 1.02-.2 1.41-.59l7.78-7.78 2.81-2.81c.8-.78.8-2.07 0-2.86zM5.41 20L4 18.59l7.72-7.72 1.47 1.35L5.41 20z\"/>\n",
              "  </svg>\n",
              "      </button>\n",
              "      \n",
              "  <style>\n",
              "    .colab-df-container {\n",
              "      display:flex;\n",
              "      flex-wrap:wrap;\n",
              "      gap: 12px;\n",
              "    }\n",
              "\n",
              "    .colab-df-convert {\n",
              "      background-color: #E8F0FE;\n",
              "      border: none;\n",
              "      border-radius: 50%;\n",
              "      cursor: pointer;\n",
              "      display: none;\n",
              "      fill: #1967D2;\n",
              "      height: 32px;\n",
              "      padding: 0 0 0 0;\n",
              "      width: 32px;\n",
              "    }\n",
              "\n",
              "    .colab-df-convert:hover {\n",
              "      background-color: #E2EBFA;\n",
              "      box-shadow: 0px 1px 2px rgba(60, 64, 67, 0.3), 0px 1px 3px 1px rgba(60, 64, 67, 0.15);\n",
              "      fill: #174EA6;\n",
              "    }\n",
              "\n",
              "    [theme=dark] .colab-df-convert {\n",
              "      background-color: #3B4455;\n",
              "      fill: #D2E3FC;\n",
              "    }\n",
              "\n",
              "    [theme=dark] .colab-df-convert:hover {\n",
              "      background-color: #434B5C;\n",
              "      box-shadow: 0px 1px 3px 1px rgba(0, 0, 0, 0.15);\n",
              "      filter: drop-shadow(0px 1px 2px rgba(0, 0, 0, 0.3));\n",
              "      fill: #FFFFFF;\n",
              "    }\n",
              "  </style>\n",
              "\n",
              "      <script>\n",
              "        const buttonEl =\n",
              "          document.querySelector('#df-ec7bf75d-0639-4cdf-a2c2-595040b04346 button.colab-df-convert');\n",
              "        buttonEl.style.display =\n",
              "          google.colab.kernel.accessAllowed ? 'block' : 'none';\n",
              "\n",
              "        async function convertToInteractive(key) {\n",
              "          const element = document.querySelector('#df-ec7bf75d-0639-4cdf-a2c2-595040b04346');\n",
              "          const dataTable =\n",
              "            await google.colab.kernel.invokeFunction('convertToInteractive',\n",
              "                                                     [key], {});\n",
              "          if (!dataTable) return;\n",
              "\n",
              "          const docLinkHtml = 'Like what you see? Visit the ' +\n",
              "            '<a target=\"_blank\" href=https://colab.research.google.com/notebooks/data_table.ipynb>data table notebook</a>'\n",
              "            + ' to learn more about interactive tables.';\n",
              "          element.innerHTML = '';\n",
              "          dataTable['output_type'] = 'display_data';\n",
              "          await google.colab.output.renderOutput(dataTable, element);\n",
              "          const docLink = document.createElement('div');\n",
              "          docLink.innerHTML = docLinkHtml;\n",
              "          element.appendChild(docLink);\n",
              "        }\n",
              "      </script>\n",
              "    </div>\n",
              "  </div>\n",
              "  "
            ]
          },
          "metadata": {},
          "execution_count": 48
        }
      ]
    },
    {
      "cell_type": "markdown",
      "metadata": {
        "id": "Ko7PVYcXrfs0"
      },
      "source": [
        "### Creating Bag of Words\n",
        "\n",
        "The purpose of this step is to create a [bag of words](https://en.wikipedia.org/wiki/Bag-of-words_model) from the processed data. The bag of words contains all the unique words in your whole text body (a.k.a. *corpus*) with the number of occurrence of each word. It will allow you to understand which words are the most important features across the whole corpus.\n",
        "\n",
        "Also, you can imagine you will have a massive set of words. The less important words (i.e. those of very low number of occurrence) do not contribute much to the sentiment. Therefore, you only need to use the most important words to build your feature set in the next step. In our case, we will use the top 5,000 words with the highest frequency to build the features.\n",
        "\n",
        "In the cell below, combine all the words in `text_processed` and calculate the frequency distribution of all words. A convenient library to calculate the term frequency distribution is NLTK's `FreqDist` class ([documentation](https://www.nltk.org/api/nltk.html#module-nltk.probability)). Then select the top 5,000 words from the frequency distribution."
      ]
    },
    {
      "cell_type": "code",
      "execution_count": 50,
      "metadata": {
        "id": "yQlUMIzzrfs1"
      },
      "outputs": [],
      "source": [
        "words = [word for line in sent_sampled.text_processed for word in line]\n",
        "fdist = nltk.FreqDist(words)\n",
        "top_words = [tuple[0] for tuple in fdist.most_common(5000)]"
      ]
    },
    {
      "cell_type": "markdown",
      "metadata": {
        "id": "EEUvWeNCrfs1"
      },
      "source": [
        "### Building Features\n",
        "\n",
        "Now let's build the features. Using the top 5,000 words, create a 2-dimensional matrix to record whether each of those words is contained in each document (tweet). Then you also have an output column to indicate whether the sentiment in each tweet is positive. For example, assuming your bag of words has 5 items (`['one', 'two', 'three', 'four', 'five']`) out of 4 documents (`['A', 'B', 'C', 'D']`), your feature set is essentially:\n",
        "\n",
        "| Doc | one | two | three | four | five | is_positive |\n",
        "|---|---|---|---|---|---|---|\n",
        "| A | True | False | False | True | False | True |\n",
        "| B | False | False | False | True | True | False |\n",
        "| C | False | True | False | False | False | True |\n",
        "| D | True | False | False | False | True | False|\n",
        "\n",
        "However, because the `nltk.NaiveBayesClassifier.train` class we will use in the next step does not work with Pandas dataframe, the structure of your feature set should be converted to the Python list looking like below:\n",
        "\n",
        "```python\n",
        "[\n",
        "\t({\n",
        "\t\t'one': True,\n",
        "\t\t'two': False,\n",
        "\t\t'three': False,\n",
        "\t\t'four': True,\n",
        "\t\t'five': False\n",
        "\t}, True),\n",
        "\t({\n",
        "\t\t'one': False,\n",
        "\t\t'two': False,\n",
        "\t\t'three': False,\n",
        "\t\t'four': True,\n",
        "\t\t'five': True\n",
        "\t}, False),\n",
        "\t({\n",
        "\t\t'one': False,\n",
        "\t\t'two': True,\n",
        "\t\t'three': False,\n",
        "\t\t'four': False,\n",
        "\t\t'five': False\n",
        "\t}, True),\n",
        "\t({\n",
        "\t\t'one': True,\n",
        "\t\t'two': False,\n",
        "\t\t'three': False,\n",
        "\t\t'four': False,\n",
        "\t\t'five': True\n",
        "\t}, False)\n",
        "]\n",
        "```\n",
        "\n",
        "To help you in this step, watch the [following video](https://www.youtube.com/watch?v=-vVskDsHcVc) to learn how to build the feature set with Python and NLTK. The source code in this video can be found [here](https://pythonprogramming.net/words-as-features-nltk-tutorial/)."
      ]
    },
    {
      "cell_type": "markdown",
      "metadata": {
        "id": "Knav8IQ2rfs2"
      },
      "source": [
        "[![Building Features](building-features.jpg)](https://www.youtube.com/watch?v=-vVskDsHcVc)"
      ]
    },
    {
      "cell_type": "code",
      "execution_count": 51,
      "metadata": {
        "id": "Zk-YDy9brfs2"
      },
      "outputs": [],
      "source": [
        "def find_features(text):\n",
        "    words = text.lower()\n",
        "    features = {}\n",
        "    for w in top_words: features[w] = w in words\n",
        "    return features\n",
        "\n",
        "featuresets = [(find_features(t),bool(s)) for t,s in zip(sent_sampled['text'],sent_sampled['target'])]"
      ]
    },
    {
      "cell_type": "markdown",
      "metadata": {
        "id": "oFrRnM5grfs3"
      },
      "source": [
        "### Building and Traininng Naive Bayes Model\n",
        "\n",
        "In this step you will split your feature set into a training and a test set. Then you will create a Bayes classifier instance using `nltk.NaiveBayesClassifier.train` ([example](https://www.nltk.org/book/ch06.html)) to train with the training dataset.\n",
        "\n",
        "After training the model, call `classifier.show_most_informative_features()` to inspect the most important features. The output will look like:\n",
        "\n",
        "```\n",
        "Most Informative Features\n",
        "\t    snow = True            False : True   =     34.3 : 1.0\n",
        "\t  easter = True            False : True   =     26.2 : 1.0\n",
        "\t headach = True            False : True   =     20.9 : 1.0\n",
        "\t    argh = True            False : True   =     17.6 : 1.0\n",
        "\tunfortun = True            False : True   =     16.9 : 1.0\n",
        "\t    jona = True             True : False  =     16.2 : 1.0\n",
        "\t     ach = True            False : True   =     14.9 : 1.0\n",
        "\t     sad = True            False : True   =     13.0 : 1.0\n",
        "\t  parent = True            False : True   =     12.9 : 1.0\n",
        "\t  spring = True            False : True   =     12.7 : 1.0\n",
        "```\n",
        "\n",
        "The [following video](https://www.youtube.com/watch?v=rISOsUaTrO4) will help you complete this step. The source code in this video can be found [here](https://pythonprogramming.net/naive-bayes-classifier-nltk-tutorial/)."
      ]
    },
    {
      "cell_type": "markdown",
      "metadata": {
        "id": "Bv9ZC2Karfs3"
      },
      "source": [
        "[![Building and Training NB](nb-model-building.jpg)](https://www.youtube.com/watch?v=rISOsUaTrO4)"
      ]
    },
    {
      "cell_type": "code",
      "execution_count": 52,
      "metadata": {
        "id": "T4L86iFnrfs3"
      },
      "outputs": [],
      "source": [
        "testing_set = featuresets[:4000]\n",
        "training_set = featuresets[4000:]\n",
        "\n",
        "classifier = nltk.NaiveBayesClassifier.train(training_set)"
      ]
    },
    {
      "cell_type": "markdown",
      "metadata": {
        "id": "rMr7RtX0rfs4"
      },
      "source": [
        "### Testing Naive Bayes Model\n",
        "\n",
        "Now we'll test our classifier with the test dataset. This is done by calling `nltk.classify.accuracy(classifier, test)`.\n",
        "\n",
        "As mentioned in one of the tutorial videos, a Naive Bayes model is considered OK if your accuracy score is over 0.6. If your accuracy score is over 0.7, you've done a great job!"
      ]
    },
    {
      "cell_type": "code",
      "execution_count": 53,
      "metadata": {
        "id": "zYhfNSb6rfs4",
        "colab": {
          "base_uri": "https://localhost:8080/"
        },
        "outputId": "2b5add7e-003c-4545-8774-c698c4c09b05"
      },
      "outputs": [
        {
          "output_type": "stream",
          "name": "stdout",
          "text": [
            "Classifier accuracy percent: 71.1\n"
          ]
        }
      ],
      "source": [
        "print(\"Classifier accuracy percent:\", nltk.classify.accuracy(classifier, testing_set)*100)"
      ]
    }
  ],
  "metadata": {
    "kernelspec": {
      "display_name": "Python 3",
      "language": "python",
      "name": "python3"
    },
    "language_info": {
      "codemirror_mode": {
        "name": "ipython",
        "version": 3
      },
      "file_extension": ".py",
      "mimetype": "text/x-python",
      "name": "python",
      "nbconvert_exporter": "python",
      "pygments_lexer": "ipython3",
      "version": "3.7.3"
    },
    "colab": {
      "name": "challenge-2.ipynb",
      "provenance": [],
      "collapsed_sections": []
    }
  },
  "nbformat": 4,
  "nbformat_minor": 0
}